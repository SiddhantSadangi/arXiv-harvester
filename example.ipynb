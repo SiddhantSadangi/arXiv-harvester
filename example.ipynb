{
 "cells": [
  {
   "cell_type": "code",
   "execution_count": 1,
   "metadata": {
    "ExecuteTime": {
     "end_time": "2019-10-08T05:51:16.296898Z",
     "start_time": "2019-10-08T05:51:15.737999Z"
    }
   },
   "outputs": [],
   "source": [
    "from arxiv import Paper, arXiv, inSPIRE\n",
    "\n",
    "%load_ext autoreload\n",
    "%autoreload 2"
   ]
  },
  {
   "cell_type": "markdown",
   "metadata": {},
   "source": [
    "# Harvest papers on arXiv"
   ]
  },
  {
   "cell_type": "markdown",
   "metadata": {},
   "source": [
    "## Get papers (that were modified) in a date range "
   ]
  },
  {
   "cell_type": "markdown",
   "metadata": {},
   "source": [
    "in order to scrape arxiv.org, first we need to instantiate a `Paper` object which specifies the date range (via `from_` and `to_` arguments, and the category via `set_` argument. For example:"
   ]
  },
  {
   "cell_type": "code",
   "execution_count": 29,
   "metadata": {
    "ExecuteTime": {
     "end_time": "2019-10-08T05:41:09.856012Z",
     "start_time": "2019-10-08T05:41:09.802467Z"
    }
   },
   "outputs": [],
   "source": [
    "paper = Paper(from_=\"2010-01-01\",\n",
    "              to_=\"2010-02-01\",\n",
    "              set_=\"physics:astro-ph\",\n",
    "             )"
   ]
  },
  {
   "cell_type": "code",
   "execution_count": 30,
   "metadata": {
    "ExecuteTime": {
     "end_time": "2019-10-08T05:41:10.500089Z",
     "start_time": "2019-10-08T05:41:10.470661Z"
    }
   },
   "outputs": [
    {
     "data": {
      "text/plain": [
       "Papers from 2010-01-01 to 2010-02-01 in the physics:astro-ph category"
      ]
     },
     "execution_count": 30,
     "metadata": {},
     "output_type": "execute_result"
    }
   ],
   "source": [
    "paper"
   ]
  },
  {
   "cell_type": "markdown",
   "metadata": {},
   "source": [
    "by passing this object into an instance of `arXiv`, we start harvesting the records:"
   ]
  },
  {
   "cell_type": "code",
   "execution_count": 31,
   "metadata": {
    "ExecuteTime": {
     "end_time": "2019-10-08T05:41:20.270097Z",
     "start_time": "2019-10-08T05:41:11.113068Z"
    }
   },
   "outputs": [
    {
     "name": "stdout",
     "output_type": "stream",
     "text": [
      "requesting records from 2010-01-01 to 2010-02-01 in the physics:astro-ph category\n",
      "\n",
      "request url: http://export.arxiv.org/oai2?verb=ListRecords&from=2010-01-01&until=2010-02-01&metadataPrefix=arXiv&set=physics:astro-ph\n",
      "\n",
      "response ok? : True\n",
      "\n",
      "No resumption tokens found...\n",
      "\n",
      "1\n",
      "bowls = 646\n"
     ]
    }
   ],
   "source": [
    "arxiv = arXiv(paper)"
   ]
  },
  {
   "cell_type": "code",
   "execution_count": 32,
   "metadata": {
    "ExecuteTime": {
     "end_time": "2019-10-08T05:41:21.939661Z",
     "start_time": "2019-10-08T05:41:21.898432Z"
    }
   },
   "outputs": [
    {
     "data": {
      "text/html": [
       "<div>\n",
       "<style scoped>\n",
       "    .dataframe tbody tr th:only-of-type {\n",
       "        vertical-align: middle;\n",
       "    }\n",
       "\n",
       "    .dataframe tbody tr th {\n",
       "        vertical-align: top;\n",
       "    }\n",
       "\n",
       "    .dataframe thead th {\n",
       "        text-align: right;\n",
       "    }\n",
       "</style>\n",
       "<table border=\"1\" class=\"dataframe\">\n",
       "  <thead>\n",
       "    <tr style=\"text-align: right;\">\n",
       "      <th></th>\n",
       "      <th>id</th>\n",
       "      <th>title</th>\n",
       "      <th>abstract</th>\n",
       "      <th>author</th>\n",
       "      <th>setSpec</th>\n",
       "      <th>categories</th>\n",
       "      <th>created</th>\n",
       "      <th>updated</th>\n",
       "      <th>comments</th>\n",
       "      <th>doi</th>\n",
       "      <th>datestamp</th>\n",
       "      <th>n_authors</th>\n",
       "    </tr>\n",
       "  </thead>\n",
       "  <tbody>\n",
       "    <tr>\n",
       "      <th>0</th>\n",
       "      <td>0704.2196</td>\n",
       "      <td>Absolute Calibration and Characterization of t...</td>\n",
       "      <td>The absolute calibration and characterization ...</td>\n",
       "      <td>[Gordon Karl D., Engelbracht Charles W., Fadda...</td>\n",
       "      <td>physics:astro-ph</td>\n",
       "      <td>[astro-ph]</td>\n",
       "      <td>2007-04-17</td>\n",
       "      <td>NaT</td>\n",
       "      <td>19 pages, PASP, in press</td>\n",
       "      <td>10.1086/522675</td>\n",
       "      <td>2010-01-07</td>\n",
       "      <td>22</td>\n",
       "    </tr>\n",
       "    <tr>\n",
       "      <th>1</th>\n",
       "      <td>0704.3441</td>\n",
       "      <td>Anisotropic Locations of Satellite Galaxies: C...</td>\n",
       "      <td>We investigate the locations of the satellites...</td>\n",
       "      <td>[Agustsson Ingolfur, Brainerd Tereasa G.]</td>\n",
       "      <td>physics:astro-ph</td>\n",
       "      <td>[astro-ph]</td>\n",
       "      <td>2007-04-25</td>\n",
       "      <td>2009-12-03</td>\n",
       "      <td>43 pages, 13 figures, ApJ in press</td>\n",
       "      <td>10.1088/0004-637X/709/2/1321</td>\n",
       "      <td>2010-01-21</td>\n",
       "      <td>2</td>\n",
       "    </tr>\n",
       "    <tr>\n",
       "      <th>2</th>\n",
       "      <td>0704.3704</td>\n",
       "      <td>Multimodal nested sampling: an efficient and r...</td>\n",
       "      <td>In performing a Bayesian analysis of astronomi...</td>\n",
       "      <td>[Feroz Farhan, Hobson M. P.]</td>\n",
       "      <td>physics:astro-ph</td>\n",
       "      <td>[astro-ph]</td>\n",
       "      <td>2007-04-27</td>\n",
       "      <td>2007-07-23</td>\n",
       "      <td>14 pages, 11 figures, submitted to MNRAS, some...</td>\n",
       "      <td>10.1111/j.1365-2966.2007.12353.x</td>\n",
       "      <td>2010-01-11</td>\n",
       "      <td>2</td>\n",
       "    </tr>\n",
       "    <tr>\n",
       "      <th>3</th>\n",
       "      <td>0704.3839</td>\n",
       "      <td>Multiband optical surface brightness profile d...</td>\n",
       "      <td>We present preliminary results of the Johnson-...</td>\n",
       "      <td>[Mihov Boyko, Slavcheva-Mihova Lyuba]</td>\n",
       "      <td>physics:astro-ph</td>\n",
       "      <td>[astro-ph]</td>\n",
       "      <td>2007-04-29</td>\n",
       "      <td>2010-02-01</td>\n",
       "      <td>A poster presented at the scientific conferenc...</td>\n",
       "      <td>NaN</td>\n",
       "      <td>2010-02-01</td>\n",
       "      <td>2</td>\n",
       "    </tr>\n",
       "    <tr>\n",
       "      <th>4</th>\n",
       "      <td>0706.0148</td>\n",
       "      <td>The radio properties of type II quasars</td>\n",
       "      <td>Quasars (of type I) are the luminous analogs o...</td>\n",
       "      <td>[Lal Dharam Vir, Ho Luis C.]</td>\n",
       "      <td>physics:astro-ph</td>\n",
       "      <td>[astro-ph]</td>\n",
       "      <td>2007-06-01</td>\n",
       "      <td>NaT</td>\n",
       "      <td>4 pages, 3 figures, To appear in \"The Central ...</td>\n",
       "      <td>NaN</td>\n",
       "      <td>2010-01-22</td>\n",
       "      <td>2</td>\n",
       "    </tr>\n",
       "  </tbody>\n",
       "</table>\n",
       "</div>"
      ],
      "text/plain": [
       "          id                                              title  \\\n",
       "0  0704.2196  Absolute Calibration and Characterization of t...   \n",
       "1  0704.3441  Anisotropic Locations of Satellite Galaxies: C...   \n",
       "2  0704.3704  Multimodal nested sampling: an efficient and r...   \n",
       "3  0704.3839  Multiband optical surface brightness profile d...   \n",
       "4  0706.0148            The radio properties of type II quasars   \n",
       "\n",
       "                                            abstract  \\\n",
       "0  The absolute calibration and characterization ...   \n",
       "1  We investigate the locations of the satellites...   \n",
       "2  In performing a Bayesian analysis of astronomi...   \n",
       "3  We present preliminary results of the Johnson-...   \n",
       "4  Quasars (of type I) are the luminous analogs o...   \n",
       "\n",
       "                                              author           setSpec  \\\n",
       "0  [Gordon Karl D., Engelbracht Charles W., Fadda...  physics:astro-ph   \n",
       "1          [Agustsson Ingolfur, Brainerd Tereasa G.]  physics:astro-ph   \n",
       "2                       [Feroz Farhan, Hobson M. P.]  physics:astro-ph   \n",
       "3              [Mihov Boyko, Slavcheva-Mihova Lyuba]  physics:astro-ph   \n",
       "4                       [Lal Dharam Vir, Ho Luis C.]  physics:astro-ph   \n",
       "\n",
       "   categories    created    updated  \\\n",
       "0  [astro-ph] 2007-04-17        NaT   \n",
       "1  [astro-ph] 2007-04-25 2009-12-03   \n",
       "2  [astro-ph] 2007-04-27 2007-07-23   \n",
       "3  [astro-ph] 2007-04-29 2010-02-01   \n",
       "4  [astro-ph] 2007-06-01        NaT   \n",
       "\n",
       "                                            comments  \\\n",
       "0                           19 pages, PASP, in press   \n",
       "1                 43 pages, 13 figures, ApJ in press   \n",
       "2  14 pages, 11 figures, submitted to MNRAS, some...   \n",
       "3  A poster presented at the scientific conferenc...   \n",
       "4  4 pages, 3 figures, To appear in \"The Central ...   \n",
       "\n",
       "                                doi  datestamp  n_authors  \n",
       "0                    10.1086/522675 2010-01-07         22  \n",
       "1      10.1088/0004-637X/709/2/1321 2010-01-21          2  \n",
       "2  10.1111/j.1365-2966.2007.12353.x 2010-01-11          2  \n",
       "3                               NaN 2010-02-01          2  \n",
       "4                               NaN 2010-01-22          2  "
      ]
     },
     "execution_count": 32,
     "metadata": {},
     "output_type": "execute_result"
    }
   ],
   "source": [
    "paper.pile.head()"
   ]
  },
  {
   "cell_type": "markdown",
   "metadata": {
    "ExecuteTime": {
     "end_time": "2019-10-08T05:16:10.821998Z",
     "start_time": "2019-10-08T05:16:10.770296Z"
    }
   },
   "source": [
    "Note that the `from_`-`to_` date range does not necessarily specify the creation or updation (🤔?!) date "
   ]
  },
  {
   "cell_type": "code",
   "execution_count": 33,
   "metadata": {
    "ExecuteTime": {
     "end_time": "2019-10-08T05:41:24.640335Z",
     "start_time": "2019-10-08T05:41:24.611419Z"
    }
   },
   "outputs": [
    {
     "name": "stdout",
     "output_type": "stream",
     "text": [
      "'datestamps' range between: 2010-01-02 00:00:00 and 2010-02-01 00:00:00\n"
     ]
    }
   ],
   "source": [
    "print(f\"'datestamps' range between: {paper.pile.datestamp.min()} and {paper.pile.datestamp.max()}\")"
   ]
  },
  {
   "cell_type": "code",
   "execution_count": 34,
   "metadata": {
    "ExecuteTime": {
     "end_time": "2019-10-08T05:41:25.330861Z",
     "start_time": "2019-10-08T05:41:25.297336Z"
    }
   },
   "outputs": [
    {
     "name": "stdout",
     "output_type": "stream",
     "text": [
      "'created' range between: 1993-06-10 00:00:00 and 2010-01-29 00:00:00\n"
     ]
    }
   ],
   "source": [
    "print(f\"'created' range between: {paper.pile.created.min()} and {paper.pile.created.max()}\")"
   ]
  },
  {
   "cell_type": "code",
   "execution_count": 35,
   "metadata": {
    "ExecuteTime": {
     "end_time": "2019-10-08T05:41:25.865272Z",
     "start_time": "2019-10-08T05:41:25.836682Z"
    }
   },
   "outputs": [
    {
     "name": "stdout",
     "output_type": "stream",
     "text": [
      "'updated' range between: 1994-10-27 00:00:00 and 2010-02-01 00:00:00\n"
     ]
    }
   ],
   "source": [
    "print(f\"'updated' range between: {paper.pile.updated.min()} and {paper.pile.updated.max()}\")"
   ]
  },
  {
   "cell_type": "markdown",
   "metadata": {},
   "source": [
    "## save to file "
   ]
  },
  {
   "cell_type": "markdown",
   "metadata": {
    "ExecuteTime": {
     "end_time": "2019-10-08T05:18:22.357009Z",
     "start_time": "2019-10-08T05:18:22.305121Z"
    }
   },
   "source": [
    "We can easily save the harvested data using"
   ]
  },
  {
   "cell_type": "code",
   "execution_count": 36,
   "metadata": {
    "ExecuteTime": {
     "end_time": "2019-10-08T05:41:30.979653Z",
     "start_time": "2019-10-08T05:41:30.876789Z"
    }
   },
   "outputs": [
    {
     "name": "stdout",
     "output_type": "stream",
     "text": [
      "pile saved to \n",
      "set=physics:astro-ph-from=2010-01-01-to=2010-02-01.csv\n"
     ]
    }
   ],
   "source": [
    "paper.save_to_file()"
   ]
  },
  {
   "cell_type": "markdown",
   "metadata": {},
   "source": [
    "by default a cvs file is saved in the current directory under the following name:"
   ]
  },
  {
   "cell_type": "code",
   "execution_count": 37,
   "metadata": {
    "ExecuteTime": {
     "end_time": "2019-10-08T05:41:32.041882Z",
     "start_time": "2019-10-08T05:41:31.999104Z"
    }
   },
   "outputs": [
    {
     "data": {
      "text/plain": [
       "'set=physics:astro-ph-from=2010-01-01-to=2010-02-01.csv'"
      ]
     },
     "execution_count": 37,
     "metadata": {},
     "output_type": "execute_result"
    }
   ],
   "source": [
    "paper.get_file_name()"
   ]
  },
  {
   "cell_type": "markdown",
   "metadata": {},
   "source": [
    "## Get today's papers"
   ]
  },
  {
   "cell_type": "markdown",
   "metadata": {},
   "source": [
    "If no dates are passed to the `Paper` instance, the default date range is set to today's papers. Also the default category for `set_` is `physics:astro-ph`."
   ]
  },
  {
   "cell_type": "code",
   "execution_count": 38,
   "metadata": {
    "ExecuteTime": {
     "end_time": "2019-10-08T05:41:36.792274Z",
     "start_time": "2019-10-08T05:41:33.172141Z"
    }
   },
   "outputs": [
    {
     "name": "stdout",
     "output_type": "stream",
     "text": [
      "requesting records from 2019-10-06 to 2019-10-07 in the physics:astro-ph category\n",
      "\n",
      "request url: http://export.arxiv.org/oai2?verb=ListRecords&from=2019-10-06&until=2019-10-07&metadataPrefix=arXiv&set=physics:astro-ph\n",
      "\n",
      "response ok? : True\n",
      "\n",
      "No resumption tokens found...\n",
      "\n",
      "1\n",
      "bowls = 77\n"
     ]
    }
   ],
   "source": [
    "paper = Paper()\n",
    "arxiv = arXiv(paper)"
   ]
  },
  {
   "cell_type": "code",
   "execution_count": 39,
   "metadata": {
    "ExecuteTime": {
     "end_time": "2019-10-08T05:41:37.578478Z",
     "start_time": "2019-10-08T05:41:37.526229Z"
    }
   },
   "outputs": [
    {
     "data": {
      "text/html": [
       "<div>\n",
       "<style scoped>\n",
       "    .dataframe tbody tr th:only-of-type {\n",
       "        vertical-align: middle;\n",
       "    }\n",
       "\n",
       "    .dataframe tbody tr th {\n",
       "        vertical-align: top;\n",
       "    }\n",
       "\n",
       "    .dataframe thead th {\n",
       "        text-align: right;\n",
       "    }\n",
       "</style>\n",
       "<table border=\"1\" class=\"dataframe\">\n",
       "  <thead>\n",
       "    <tr style=\"text-align: right;\">\n",
       "      <th></th>\n",
       "      <th>id</th>\n",
       "      <th>title</th>\n",
       "      <th>abstract</th>\n",
       "      <th>author</th>\n",
       "      <th>setSpec</th>\n",
       "      <th>categories</th>\n",
       "      <th>created</th>\n",
       "      <th>updated</th>\n",
       "      <th>comments</th>\n",
       "      <th>doi</th>\n",
       "      <th>datestamp</th>\n",
       "      <th>n_authors</th>\n",
       "    </tr>\n",
       "  </thead>\n",
       "  <tbody>\n",
       "    <tr>\n",
       "      <th>0</th>\n",
       "      <td>1607.07881</td>\n",
       "      <td>Galaxy Quenching from Cosmic Web Detachment</td>\n",
       "      <td>We propose the Cosmic Web Detachment (CWD) mod...</td>\n",
       "      <td>[Aragon-Calvo Miguel A., Neyrinck Mark C., Sil...</td>\n",
       "      <td>physics:astro-ph</td>\n",
       "      <td>[astro-ph.GA, astro-ph.CO]</td>\n",
       "      <td>2016-07-26</td>\n",
       "      <td>2019-07-28</td>\n",
       "      <td>20 pages, accepted for publication in OJA. Hig...</td>\n",
       "      <td>10.21105/astro.1607.07881</td>\n",
       "      <td>2019-10-07</td>\n",
       "      <td>3</td>\n",
       "    </tr>\n",
       "    <tr>\n",
       "      <th>1</th>\n",
       "      <td>1803.10040</td>\n",
       "      <td>Bimodal distribution of short gamma-ray bursts...</td>\n",
       "      <td>Recently, GRB 170817A was confirmed to be asso...</td>\n",
       "      <td>[Yu Y. B., Li L. B., Li B., Geng J. J., Huang ...</td>\n",
       "      <td>physics:astro-ph</td>\n",
       "      <td>[astro-ph.HE]</td>\n",
       "      <td>2018-03-27</td>\n",
       "      <td>2019-10-04</td>\n",
       "      <td>12 pages, 2 figures, 1 table, accepted by New ...</td>\n",
       "      <td>NaN</td>\n",
       "      <td>2019-10-07</td>\n",
       "      <td>5</td>\n",
       "    </tr>\n",
       "    <tr>\n",
       "      <th>2</th>\n",
       "      <td>1810.02581</td>\n",
       "      <td>Search for gravitational waves from a long-liv...</td>\n",
       "      <td>One unanswered question about the binary neutr...</td>\n",
       "      <td>[The LIGO Scientific Collaboration, the Virgo ...</td>\n",
       "      <td>physics:astro-ph</td>\n",
       "      <td>[gr-qc, astro-ph.HE]</td>\n",
       "      <td>2018-10-05</td>\n",
       "      <td>2019-10-04</td>\n",
       "      <td>main paper: 9 pages and 3 figures; total with ...</td>\n",
       "      <td>10.3847/1538-4357/ab0f3d</td>\n",
       "      <td>2019-10-07</td>\n",
       "      <td>1141</td>\n",
       "    </tr>\n",
       "    <tr>\n",
       "      <th>3</th>\n",
       "      <td>1811.01963</td>\n",
       "      <td>Subaru High-z Exploration of Low-Luminosity Qu...</td>\n",
       "      <td>We present new measurements of the quasar lumi...</td>\n",
       "      <td>[Matsuoka Yoshiki, Strauss Michael A., Kashika...</td>\n",
       "      <td>physics:astro-ph</td>\n",
       "      <td>[astro-ph.GA]</td>\n",
       "      <td>2018-11-05</td>\n",
       "      <td>NaT</td>\n",
       "      <td>Accepted for publication in ApJ</td>\n",
       "      <td>10.3847/1538-4357/aaee7a</td>\n",
       "      <td>2019-10-07</td>\n",
       "      <td>47</td>\n",
       "    </tr>\n",
       "    <tr>\n",
       "      <th>4</th>\n",
       "      <td>1811.05159</td>\n",
       "      <td>IAU MDC Meteor Orbits Database -- A Sample of ...</td>\n",
       "      <td>We announce an upgrade of the IAU MDC photogra...</td>\n",
       "      <td>[Narziev M., Chebotarev R. P., Jopek T. J., Ne...</td>\n",
       "      <td>physics:astro-ph</td>\n",
       "      <td>[astro-ph.EP]</td>\n",
       "      <td>2018-11-13</td>\n",
       "      <td>2019-10-04</td>\n",
       "      <td>11, pages, 2 figures</td>\n",
       "      <td>NaN</td>\n",
       "      <td>2019-10-07</td>\n",
       "      <td>13</td>\n",
       "    </tr>\n",
       "  </tbody>\n",
       "</table>\n",
       "</div>"
      ],
      "text/plain": [
       "           id                                              title  \\\n",
       "0  1607.07881        Galaxy Quenching from Cosmic Web Detachment   \n",
       "1  1803.10040  Bimodal distribution of short gamma-ray bursts...   \n",
       "2  1810.02581  Search for gravitational waves from a long-liv...   \n",
       "3  1811.01963  Subaru High-z Exploration of Low-Luminosity Qu...   \n",
       "4  1811.05159  IAU MDC Meteor Orbits Database -- A Sample of ...   \n",
       "\n",
       "                                            abstract  \\\n",
       "0  We propose the Cosmic Web Detachment (CWD) mod...   \n",
       "1  Recently, GRB 170817A was confirmed to be asso...   \n",
       "2  One unanswered question about the binary neutr...   \n",
       "3  We present new measurements of the quasar lumi...   \n",
       "4  We announce an upgrade of the IAU MDC photogra...   \n",
       "\n",
       "                                              author           setSpec  \\\n",
       "0  [Aragon-Calvo Miguel A., Neyrinck Mark C., Sil...  physics:astro-ph   \n",
       "1  [Yu Y. B., Li L. B., Li B., Geng J. J., Huang ...  physics:astro-ph   \n",
       "2  [The LIGO Scientific Collaboration, the Virgo ...  physics:astro-ph   \n",
       "3  [Matsuoka Yoshiki, Strauss Michael A., Kashika...  physics:astro-ph   \n",
       "4  [Narziev M., Chebotarev R. P., Jopek T. J., Ne...  physics:astro-ph   \n",
       "\n",
       "                   categories    created    updated  \\\n",
       "0  [astro-ph.GA, astro-ph.CO] 2016-07-26 2019-07-28   \n",
       "1               [astro-ph.HE] 2018-03-27 2019-10-04   \n",
       "2        [gr-qc, astro-ph.HE] 2018-10-05 2019-10-04   \n",
       "3               [astro-ph.GA] 2018-11-05        NaT   \n",
       "4               [astro-ph.EP] 2018-11-13 2019-10-04   \n",
       "\n",
       "                                            comments  \\\n",
       "0  20 pages, accepted for publication in OJA. Hig...   \n",
       "1  12 pages, 2 figures, 1 table, accepted by New ...   \n",
       "2  main paper: 9 pages and 3 figures; total with ...   \n",
       "3                    Accepted for publication in ApJ   \n",
       "4                               11, pages, 2 figures   \n",
       "\n",
       "                         doi  datestamp  n_authors  \n",
       "0  10.21105/astro.1607.07881 2019-10-07          3  \n",
       "1                        NaN 2019-10-07          5  \n",
       "2   10.3847/1538-4357/ab0f3d 2019-10-07       1141  \n",
       "3   10.3847/1538-4357/aaee7a 2019-10-07         47  \n",
       "4                        NaN 2019-10-07         13  "
      ]
     },
     "execution_count": 39,
     "metadata": {},
     "output_type": "execute_result"
    }
   ],
   "source": [
    "paper.pile.head()"
   ]
  },
  {
   "cell_type": "markdown",
   "metadata": {},
   "source": [
    "# Harvest number of citations from inSPIRE"
   ]
  },
  {
   "cell_type": "markdown",
   "metadata": {},
   "source": [
    "The number of citations can be scraped via the `inSPIRE` object. Let's load the papers that we previouslt scraped from arXiv."
   ]
  },
  {
   "cell_type": "code",
   "execution_count": 2,
   "metadata": {
    "ExecuteTime": {
     "end_time": "2019-10-08T05:51:19.484770Z",
     "start_time": "2019-10-08T05:51:19.341898Z"
    }
   },
   "outputs": [
    {
     "name": "stdout",
     "output_type": "stream",
     "text": [
      "pile loaded from \n",
      "set=physics:astro-ph-from=2010-01-01-to=2010-02-01.csv\n"
     ]
    }
   ],
   "source": [
    "paper = Paper(from_=\"2010-01-01\",\n",
    "              to_=\"2010-02-01\",\n",
    "              set_=\"physics:astro-ph\",\n",
    "             )\n",
    "paper.load_from_file()"
   ]
  },
  {
   "cell_type": "markdown",
   "metadata": {},
   "source": [
    "By passing `paper` to an instance of `inSPIRE` we start scraping the number of citations. The optional argument `n_chunks` makes parallelizes this process. By default `n_chunk` is set to the value returned by `multiprocessing.cpu_counts()`.\n",
    "Let's slice the first 100 papers and find the number of times they've been cited so far from inSPIRE."
   ]
  },
  {
   "cell_type": "code",
   "execution_count": 3,
   "metadata": {
    "ExecuteTime": {
     "end_time": "2019-10-08T05:51:21.631274Z",
     "start_time": "2019-10-08T05:51:21.598901Z"
    }
   },
   "outputs": [],
   "source": [
    "paper.pile = paper.pile[:100]"
   ]
  },
  {
   "cell_type": "code",
   "execution_count": 4,
   "metadata": {
    "ExecuteTime": {
     "end_time": "2019-10-08T05:52:51.128536Z",
     "start_time": "2019-10-08T05:51:22.474813Z"
    },
    "scrolled": false
   },
   "outputs": [
    {
     "name": "stdout",
     "output_type": "stream",
     "text": [
      "Running...\n",
      "Splitting the data into 4 chunks...\n",
      "\n",
      "Still Running...\n",
      "Still Running...\n",
      "Still Running...\n",
      "Still Running...\n",
      "Still Running...\n",
      "Still Running...\n",
      "Still Running...\n",
      "Still Running...\n",
      "Still Running...\n",
      "Still Running...\n",
      "Still Running...\n",
      "Still Running...\n",
      "Still Running...\n",
      "Still Running...\n",
      "Still Running...\n",
      "Still Running...\n",
      "Still Running...\n",
      "Still Running...\n",
      "Still Running...\n"
     ]
    }
   ],
   "source": [
    "inspire = inSPIRE(paper,)"
   ]
  },
  {
   "cell_type": "code",
   "execution_count": 14,
   "metadata": {
    "ExecuteTime": {
     "end_time": "2019-10-08T05:54:26.374338Z",
     "start_time": "2019-10-08T05:54:26.319927Z"
    }
   },
   "outputs": [
    {
     "data": {
      "text/plain": [
       "0    117\n",
       "1     53\n",
       "2    587\n",
       "3      0\n",
       "4      1\n",
       "Name: n_citations, dtype: int64"
      ]
     },
     "execution_count": 14,
     "metadata": {},
     "output_type": "execute_result"
    }
   ],
   "source": [
    "paper.pile[\"n_citations\"].head()"
   ]
  },
  {
   "cell_type": "markdown",
   "metadata": {},
   "source": [
    "**Voila!**"
   ]
  },
  {
   "cell_type": "code",
   "execution_count": null,
   "metadata": {},
   "outputs": [],
   "source": []
  }
 ],
 "metadata": {
  "kernelspec": {
   "display_name": "Python 3",
   "language": "python",
   "name": "python3"
  },
  "language_info": {
   "codemirror_mode": {
    "name": "ipython",
    "version": 3
   },
   "file_extension": ".py",
   "mimetype": "text/x-python",
   "name": "python",
   "nbconvert_exporter": "python",
   "pygments_lexer": "ipython3",
   "version": "3.7.3"
  },
  "latex_envs": {
   "LaTeX_envs_menu_present": true,
   "autoclose": false,
   "autocomplete": true,
   "bibliofile": "biblio.bib",
   "cite_by": "apalike",
   "current_citInitial": 1,
   "eqLabelWithNumbers": true,
   "eqNumInitial": 1,
   "hotkeys": {
    "equation": "Ctrl-E",
    "itemize": "Ctrl-I"
   },
   "labels_anchors": false,
   "latex_user_defs": false,
   "report_style_numbering": false,
   "user_envs_cfg": false
  },
  "toc": {
   "base_numbering": 1,
   "nav_menu": {},
   "number_sections": true,
   "sideBar": true,
   "skip_h1_title": false,
   "title_cell": "Table of Contents",
   "title_sidebar": "Contents",
   "toc_cell": false,
   "toc_position": {},
   "toc_section_display": true,
   "toc_window_display": false
  },
  "varInspector": {
   "cols": {
    "lenName": 16,
    "lenType": 16,
    "lenVar": 40
   },
   "kernels_config": {
    "python": {
     "delete_cmd_postfix": "",
     "delete_cmd_prefix": "del ",
     "library": "var_list.py",
     "varRefreshCmd": "print(var_dic_list())"
    },
    "r": {
     "delete_cmd_postfix": ") ",
     "delete_cmd_prefix": "rm(",
     "library": "var_list.r",
     "varRefreshCmd": "cat(var_dic_list()) "
    }
   },
   "types_to_exclude": [
    "module",
    "function",
    "builtin_function_or_method",
    "instance",
    "_Feature"
   ],
   "window_display": false
  }
 },
 "nbformat": 4,
 "nbformat_minor": 2
}
