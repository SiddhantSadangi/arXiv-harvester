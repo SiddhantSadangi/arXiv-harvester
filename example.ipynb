{
 "cells": [
  {
   "cell_type": "code",
   "execution_count": 1,
   "metadata": {
    "ExecuteTime": {
     "end_time": "2019-10-02T05:07:14.454852Z",
     "start_time": "2019-10-02T05:07:13.783718Z"
    }
   },
   "outputs": [],
   "source": [
    "import arxiv"
   ]
  },
  {
   "cell_type": "code",
   "execution_count": 2,
   "metadata": {
    "ExecuteTime": {
     "end_time": "2019-10-02T05:07:20.104420Z",
     "start_time": "2019-10-02T05:07:14.457573Z"
    }
   },
   "outputs": [
    {
     "name": "stdout",
     "output_type": "stream",
     "text": [
      "http://export.arxiv.org/oai2?verb=ListRecords&from=2019-09-30&until=2019-10-01&metadataPrefix=arXiv&set=physics:astro-ph\n",
      "requesting records from 2019-09-30 to 2019-10-01 in the physics:astro-ph category\n",
      "request url: http://export.arxiv.org/oai2?verb=ListRecords&from=2019-09-30&until=2019-10-01&metadataPrefix=arXiv&set=physics:astro-ph\n",
      "response ok? : True\n",
      "\n",
      "No resumption tokens found...\n",
      "\n",
      "1\n",
      "bowls = 254\n"
     ]
    }
   ],
   "source": [
    "paper = arxiv.Paper()\n",
    "arxiv = arxiv.arXiv(paper)"
   ]
  },
  {
   "cell_type": "code",
   "execution_count": 3,
   "metadata": {
    "ExecuteTime": {
     "end_time": "2019-10-02T05:07:20.122387Z",
     "start_time": "2019-10-02T05:07:20.107582Z"
    }
   },
   "outputs": [],
   "source": [
    "paper.process()"
   ]
  },
  {
   "cell_type": "code",
   "execution_count": 4,
   "metadata": {
    "ExecuteTime": {
     "end_time": "2019-10-02T05:07:20.169645Z",
     "start_time": "2019-10-02T05:07:20.126775Z"
    },
    "scrolled": false
   },
   "outputs": [
    {
     "data": {
      "text/html": [
       "<div>\n",
       "<style scoped>\n",
       "    .dataframe tbody tr th:only-of-type {\n",
       "        vertical-align: middle;\n",
       "    }\n",
       "\n",
       "    .dataframe tbody tr th {\n",
       "        vertical-align: top;\n",
       "    }\n",
       "\n",
       "    .dataframe thead th {\n",
       "        text-align: right;\n",
       "    }\n",
       "</style>\n",
       "<table border=\"1\" class=\"dataframe\">\n",
       "  <thead>\n",
       "    <tr style=\"text-align: right;\">\n",
       "      <th></th>\n",
       "      <th>id</th>\n",
       "      <th>title</th>\n",
       "      <th>abstract</th>\n",
       "      <th>author</th>\n",
       "      <th>setSpec</th>\n",
       "      <th>categories</th>\n",
       "      <th>created</th>\n",
       "      <th>updated</th>\n",
       "      <th>comments</th>\n",
       "      <th>doi</th>\n",
       "      <th>datestamp</th>\n",
       "      <th>n_authors</th>\n",
       "    </tr>\n",
       "  </thead>\n",
       "  <tbody>\n",
       "    <tr>\n",
       "      <th>0</th>\n",
       "      <td>1203.6903</td>\n",
       "      <td>Early publications about nonzero cosmological ...</td>\n",
       "      <td>In 2011 the Nobel Prize in Physics was awarded...</td>\n",
       "      <td>Horvath I.</td>\n",
       "      <td>physics:astro-ph</td>\n",
       "      <td>[astro-ph.CO, physics.hist-ph]</td>\n",
       "      <td>2012-03-28</td>\n",
       "      <td>2018-01-16</td>\n",
       "      <td>1 figure</td>\n",
       "      <td>NaN</td>\n",
       "      <td>2019-10-01</td>\n",
       "      <td>10</td>\n",
       "    </tr>\n",
       "    <tr>\n",
       "      <th>1</th>\n",
       "      <td>1210.7122</td>\n",
       "      <td>The axisymmetric antidynamo theorem revisited</td>\n",
       "      <td>The axisymmetric kinematic dynamo problem is r...</td>\n",
       "      <td>[Kaiser Ralf, Tilgner Andreas]</td>\n",
       "      <td>physics:astro-ph</td>\n",
       "      <td>[astro-ph.SR, astro-ph.EP, math.AP]</td>\n",
       "      <td>2012-10-26</td>\n",
       "      <td>2013-07-16</td>\n",
       "      <td>Revised version, 28 pages, 1 figure</td>\n",
       "      <td>NaN</td>\n",
       "      <td>2019-09-30</td>\n",
       "      <td>2</td>\n",
       "    </tr>\n",
       "    <tr>\n",
       "      <th>2</th>\n",
       "      <td>1304.0670</td>\n",
       "      <td>Prospects for Observing and Localizing Gravita...</td>\n",
       "      <td>We present our current best estimate of the pl...</td>\n",
       "      <td>[The LIGO Scientific Collaboration, the Virgo ...</td>\n",
       "      <td>physics:astro-ph</td>\n",
       "      <td>[gr-qc, astro-ph.HE]</td>\n",
       "      <td>2013-04-02</td>\n",
       "      <td>2019-09-27</td>\n",
       "      <td>52 pages, 9 figures, 5 tables. We have updated...</td>\n",
       "      <td>NaN</td>\n",
       "      <td>2019-09-30</td>\n",
       "      <td>1319</td>\n",
       "    </tr>\n",
       "    <tr>\n",
       "      <th>3</th>\n",
       "      <td>1611.02073</td>\n",
       "      <td>Electroweak baryogenesis and gravitational wav...</td>\n",
       "      <td>We consider a real scalar singlet field which ...</td>\n",
       "      <td>Vaskonen Ville</td>\n",
       "      <td>physics:astro-ph</td>\n",
       "      <td>[hep-ph, astro-ph.CO]</td>\n",
       "      <td>2016-11-07</td>\n",
       "      <td>2019-09-28</td>\n",
       "      <td>8 pages, 7 figures. all results updated due to...</td>\n",
       "      <td>10.1103/PhysRevD.95.123515</td>\n",
       "      <td>2019-10-01</td>\n",
       "      <td>14</td>\n",
       "    </tr>\n",
       "    <tr>\n",
       "      <th>4</th>\n",
       "      <td>1805.05918</td>\n",
       "      <td>Late-time acceleration by a residual cosmologi...</td>\n",
       "      <td>The sequestering mechanism has been proposed a...</td>\n",
       "      <td>Lombriser Lucas</td>\n",
       "      <td>physics:astro-ph</td>\n",
       "      <td>[astro-ph.CO, gr-qc, hep-ph, hep-th]</td>\n",
       "      <td>2018-05-15</td>\n",
       "      <td>2018-11-12</td>\n",
       "      <td>12 pages, 1 figure; v2: extended discussion in...</td>\n",
       "      <td>10.1088/1475-7516/2019/09/065</td>\n",
       "      <td>2019-10-01</td>\n",
       "      <td>15</td>\n",
       "    </tr>\n",
       "  </tbody>\n",
       "</table>\n",
       "</div>"
      ],
      "text/plain": [
       "           id                                              title  \\\n",
       "0   1203.6903  Early publications about nonzero cosmological ...   \n",
       "1   1210.7122      The axisymmetric antidynamo theorem revisited   \n",
       "2   1304.0670  Prospects for Observing and Localizing Gravita...   \n",
       "3  1611.02073  Electroweak baryogenesis and gravitational wav...   \n",
       "4  1805.05918  Late-time acceleration by a residual cosmologi...   \n",
       "\n",
       "                                            abstract  \\\n",
       "0  In 2011 the Nobel Prize in Physics was awarded...   \n",
       "1  The axisymmetric kinematic dynamo problem is r...   \n",
       "2  We present our current best estimate of the pl...   \n",
       "3  We consider a real scalar singlet field which ...   \n",
       "4  The sequestering mechanism has been proposed a...   \n",
       "\n",
       "                                              author           setSpec  \\\n",
       "0                                         Horvath I.  physics:astro-ph   \n",
       "1                     [Kaiser Ralf, Tilgner Andreas]  physics:astro-ph   \n",
       "2  [The LIGO Scientific Collaboration, the Virgo ...  physics:astro-ph   \n",
       "3                                     Vaskonen Ville  physics:astro-ph   \n",
       "4                                    Lombriser Lucas  physics:astro-ph   \n",
       "\n",
       "                             categories    created    updated  \\\n",
       "0        [astro-ph.CO, physics.hist-ph] 2012-03-28 2018-01-16   \n",
       "1   [astro-ph.SR, astro-ph.EP, math.AP] 2012-10-26 2013-07-16   \n",
       "2                  [gr-qc, astro-ph.HE] 2013-04-02 2019-09-27   \n",
       "3                 [hep-ph, astro-ph.CO] 2016-11-07 2019-09-28   \n",
       "4  [astro-ph.CO, gr-qc, hep-ph, hep-th] 2018-05-15 2018-11-12   \n",
       "\n",
       "                                            comments  \\\n",
       "0                                           1 figure   \n",
       "1                Revised version, 28 pages, 1 figure   \n",
       "2  52 pages, 9 figures, 5 tables. We have updated...   \n",
       "3  8 pages, 7 figures. all results updated due to...   \n",
       "4  12 pages, 1 figure; v2: extended discussion in...   \n",
       "\n",
       "                             doi  datestamp  n_authors  \n",
       "0                            NaN 2019-10-01         10  \n",
       "1                            NaN 2019-09-30          2  \n",
       "2                            NaN 2019-09-30       1319  \n",
       "3     10.1103/PhysRevD.95.123515 2019-10-01         14  \n",
       "4  10.1088/1475-7516/2019/09/065 2019-10-01         15  "
      ]
     },
     "execution_count": 4,
     "metadata": {},
     "output_type": "execute_result"
    }
   ],
   "source": [
    "paper.pile.head()"
   ]
  },
  {
   "cell_type": "code",
   "execution_count": null,
   "metadata": {},
   "outputs": [],
   "source": []
  }
 ],
 "metadata": {
  "kernelspec": {
   "display_name": "Python 3",
   "language": "python",
   "name": "python3"
  },
  "language_info": {
   "codemirror_mode": {
    "name": "ipython",
    "version": 3
   },
   "file_extension": ".py",
   "mimetype": "text/x-python",
   "name": "python",
   "nbconvert_exporter": "python",
   "pygments_lexer": "ipython3",
   "version": "3.7.3"
  },
  "latex_envs": {
   "LaTeX_envs_menu_present": true,
   "autoclose": false,
   "autocomplete": true,
   "bibliofile": "biblio.bib",
   "cite_by": "apalike",
   "current_citInitial": 1,
   "eqLabelWithNumbers": true,
   "eqNumInitial": 1,
   "hotkeys": {
    "equation": "Ctrl-E",
    "itemize": "Ctrl-I"
   },
   "labels_anchors": false,
   "latex_user_defs": false,
   "report_style_numbering": false,
   "user_envs_cfg": false
  },
  "toc": {
   "base_numbering": 1,
   "nav_menu": {},
   "number_sections": true,
   "sideBar": true,
   "skip_h1_title": false,
   "title_cell": "Table of Contents",
   "title_sidebar": "Contents",
   "toc_cell": false,
   "toc_position": {},
   "toc_section_display": true,
   "toc_window_display": false
  },
  "varInspector": {
   "cols": {
    "lenName": 16,
    "lenType": 16,
    "lenVar": 40
   },
   "kernels_config": {
    "python": {
     "delete_cmd_postfix": "",
     "delete_cmd_prefix": "del ",
     "library": "var_list.py",
     "varRefreshCmd": "print(var_dic_list())"
    },
    "r": {
     "delete_cmd_postfix": ") ",
     "delete_cmd_prefix": "rm(",
     "library": "var_list.r",
     "varRefreshCmd": "cat(var_dic_list()) "
    }
   },
   "types_to_exclude": [
    "module",
    "function",
    "builtin_function_or_method",
    "instance",
    "_Feature"
   ],
   "window_display": false
  }
 },
 "nbformat": 4,
 "nbformat_minor": 2
}
